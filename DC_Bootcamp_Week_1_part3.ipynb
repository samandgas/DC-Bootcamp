{
  "cells": [
    {
      "cell_type": "markdown",
      "metadata": {
        "id": "view-in-github",
        "colab_type": "text"
      },
      "source": [
        "<a href=\"https://colab.research.google.com/github/samandgas/DC-Bootcamp/blob/main/DC_Bootcamp_Week_1_part3.ipynb\" target=\"_parent\"><img src=\"https://colab.research.google.com/assets/colab-badge.svg\" alt=\"Open In Colab\"/></a>"
      ]
    },
    {
      "cell_type": "markdown",
      "metadata": {
        "id": "obqP1E3p0pGg"
      },
      "source": [
        "# List, Tuple, Dictionary, Set Operations"
      ]
    },
    {
      "cell_type": "markdown",
      "metadata": {
        "id": "TB56hm5q0pGk"
      },
      "source": [
        "## Run The Following Code\n",
        "Hit SHIFT + ENTER when your cusor is inside the cell of code.<br/>"
      ]
    },
    {
      "cell_type": "markdown",
      "metadata": {
        "id": "LGWoHeIk0pGk"
      },
      "source": [
        "> Create a variable to hold the values \"apple\", \"banana\", \"chiku\", \"durian\". Assign them to the variable <b>store</b> using a list."
      ]
    },
    {
      "cell_type": "code",
      "execution_count": 1,
      "metadata": {
        "id": "iuUDDkYr0pGl",
        "colab": {
          "base_uri": "https://localhost:8080/"
        },
        "outputId": "277b5e05-607e-4f9f-ecd1-86b042f3a45a"
      },
      "outputs": [
        {
          "output_type": "stream",
          "name": "stdout",
          "text": [
            "['apple', 'banana', 'chiku', 'durian']\n"
          ]
        }
      ],
      "source": [
        "store = [\"apple\", \"banana\", \"chiku\", \"durian\"]\n",
        "print(store)"
      ]
    },
    {
      "cell_type": "code",
      "execution_count": 3,
      "metadata": {
        "id": "5mFL6P4e0pGm",
        "colab": {
          "base_uri": "https://localhost:8080/"
        },
        "outputId": "84701cbb-d735-40fe-ecfb-ce3cfa24a386"
      },
      "outputs": [
        {
          "output_type": "execute_result",
          "data": {
            "text/plain": [
              "list"
            ]
          },
          "metadata": {},
          "execution_count": 3
        }
      ],
      "source": [
        "type(store)"
      ]
    },
    {
      "cell_type": "code",
      "execution_count": 4,
      "metadata": {
        "id": "Enw4ESbG0pGm",
        "colab": {
          "base_uri": "https://localhost:8080/",
          "height": 35
        },
        "outputId": "10f1fb5c-2abd-4481-d3e8-8010abe8e1d2"
      },
      "outputs": [
        {
          "output_type": "execute_result",
          "data": {
            "text/plain": [
              "'banana'"
            ],
            "application/vnd.google.colaboratory.intrinsic+json": {
              "type": "string"
            }
          },
          "metadata": {},
          "execution_count": 4
        }
      ],
      "source": [
        "#print out banana\n",
        "store[1]"
      ]
    },
    {
      "cell_type": "markdown",
      "metadata": {
        "id": "3FeNGv_B0pGm"
      },
      "source": [
        "> Use a tuple instead."
      ]
    },
    {
      "cell_type": "code",
      "execution_count": 5,
      "metadata": {
        "id": "ThTbBWgA0pGn",
        "colab": {
          "base_uri": "https://localhost:8080/"
        },
        "outputId": "e541c152-2c57-4a01-9f3a-af12192b59d9"
      },
      "outputs": [
        {
          "output_type": "stream",
          "name": "stdout",
          "text": [
            "('apple', 'banana', 'chiku', 'durian')\n"
          ]
        }
      ],
      "source": [
        "store_tuple = (\"apple\", \"banana\", \"chiku\", \"durian\")\n",
        "print(store_tuple)"
      ]
    },
    {
      "cell_type": "code",
      "execution_count": 8,
      "metadata": {
        "id": "Fq7KOeMu0pGn",
        "colab": {
          "base_uri": "https://localhost:8080/"
        },
        "outputId": "561d5a2f-b769-40bc-f74f-16c212a32c48"
      },
      "outputs": [
        {
          "output_type": "execute_result",
          "data": {
            "text/plain": [
              "tuple"
            ]
          },
          "metadata": {},
          "execution_count": 8
        }
      ],
      "source": [
        "type(store_tuple)"
      ]
    },
    {
      "cell_type": "code",
      "execution_count": 9,
      "metadata": {
        "id": "H9ap9-ec0pGn",
        "colab": {
          "base_uri": "https://localhost:8080/",
          "height": 35
        },
        "outputId": "edd1eb45-faa6-4923-cc66-04f5a084df2f"
      },
      "outputs": [
        {
          "output_type": "execute_result",
          "data": {
            "text/plain": [
              "'banana'"
            ],
            "application/vnd.google.colaboratory.intrinsic+json": {
              "type": "string"
            }
          },
          "metadata": {},
          "execution_count": 9
        }
      ],
      "source": [
        "#print out banana\n",
        "store_tuple[1]"
      ]
    },
    {
      "cell_type": "markdown",
      "metadata": {
        "id": "pvhE4Jjo0pGp"
      },
      "source": [
        "> Using tuples to swap values in a variable"
      ]
    },
    {
      "cell_type": "code",
      "execution_count": 25,
      "metadata": {
        "id": "NZKvanVA0pGp",
        "colab": {
          "base_uri": "https://localhost:8080/"
        },
        "outputId": "19842a11-4fc6-4ade-aed6-1ebce3f0c26b"
      },
      "outputs": [
        {
          "name": "stdout",
          "output_type": "stream",
          "text": [
            "Key in a name: orange\n"
          ]
        }
      ],
      "source": [
        "x = input(\"Key in a name: \")"
      ]
    },
    {
      "cell_type": "code",
      "execution_count": 26,
      "metadata": {
        "id": "Oswj2wFD0pGp",
        "colab": {
          "base_uri": "https://localhost:8080/"
        },
        "outputId": "2a3f7cab-be78-48a0-ce60-1b772ba57de8"
      },
      "outputs": [
        {
          "name": "stdout",
          "output_type": "stream",
          "text": [
            "Key in another name: grape\n"
          ]
        }
      ],
      "source": [
        "y = input(\"Key in another name: \")"
      ]
    },
    {
      "cell_type": "code",
      "execution_count": 27,
      "metadata": {
        "id": "ZCUI3CsO0pGq",
        "colab": {
          "base_uri": "https://localhost:8080/"
        },
        "outputId": "89cfa6a8-745e-48a5-ca38-47c0e75a2870"
      },
      "outputs": [
        {
          "output_type": "stream",
          "name": "stdout",
          "text": [
            "orange\n",
            "grape\n"
          ]
        }
      ],
      "source": [
        "print(x)\n",
        "print(y)"
      ]
    },
    {
      "cell_type": "code",
      "execution_count": 28,
      "metadata": {
        "id": "xB82S-qf0pGq"
      },
      "outputs": [],
      "source": [
        "#Using another variable, swap the values of x with y.\n",
        "mylist=(x,y)\n",
        "x=mylist[1]\n",
        "y=mylist[0]"
      ]
    },
    {
      "cell_type": "code",
      "execution_count": 29,
      "metadata": {
        "id": "LjOxJPgb0pGq",
        "colab": {
          "base_uri": "https://localhost:8080/"
        },
        "outputId": "6284fde5-d85e-463d-f39c-af43e8940b37"
      },
      "outputs": [
        {
          "output_type": "stream",
          "name": "stdout",
          "text": [
            "grape\n",
            "orange\n"
          ]
        }
      ],
      "source": [
        "print(x)\n",
        "print(y)"
      ]
    },
    {
      "cell_type": "code",
      "execution_count": 30,
      "metadata": {
        "id": "BoOhqUZN0pGq"
      },
      "outputs": [],
      "source": [
        "#Without using another variable, swap the values of x with y.\n",
        "(x,y)=(y,x)"
      ]
    },
    {
      "cell_type": "code",
      "execution_count": 31,
      "metadata": {
        "id": "qyuqhKu60pGr",
        "colab": {
          "base_uri": "https://localhost:8080/"
        },
        "outputId": "3fb817e7-b15b-4890-edfc-220b87b1f8cf"
      },
      "outputs": [
        {
          "output_type": "stream",
          "name": "stdout",
          "text": [
            "orange\n",
            "grape\n"
          ]
        }
      ],
      "source": [
        "print(x)\n",
        "print(y)"
      ]
    },
    {
      "cell_type": "markdown",
      "metadata": {
        "id": "MNWbG5_Z0pGr"
      },
      "source": [
        "> Use a dictionary instead."
      ]
    },
    {
      "cell_type": "code",
      "execution_count": 32,
      "metadata": {
        "id": "8JAVMPqX0pGr",
        "colab": {
          "base_uri": "https://localhost:8080/"
        },
        "outputId": "38f74061-bddd-4465-80b2-546371ef5ea1"
      },
      "outputs": [
        {
          "output_type": "stream",
          "name": "stdout",
          "text": [
            "{'fruit1': 'apple', 'fruit2': 'banana', 'fruit3': 'chiku', 'fruit4': 'durian'}\n"
          ]
        }
      ],
      "source": [
        "store_dict = {\"fruit1\":\"apple\", \"fruit2\":\"banana\", \"fruit3\":\"chiku\", \"fruit4\":\"durian\"}\n",
        "print(store_dict)"
      ]
    },
    {
      "cell_type": "code",
      "execution_count": 33,
      "metadata": {
        "id": "5Wfhe7Fg0pGr",
        "colab": {
          "base_uri": "https://localhost:8080/"
        },
        "outputId": "ac6f40b4-6a48-484a-b2c0-407793c20f8f"
      },
      "outputs": [
        {
          "output_type": "execute_result",
          "data": {
            "text/plain": [
              "dict"
            ]
          },
          "metadata": {},
          "execution_count": 33
        }
      ],
      "source": [
        "type(store_dict)"
      ]
    },
    {
      "cell_type": "code",
      "execution_count": 34,
      "metadata": {
        "id": "DXWqTP9k0pGr",
        "colab": {
          "base_uri": "https://localhost:8080/"
        },
        "outputId": "960ec749-984f-4895-f463-72be6acd5d9e"
      },
      "outputs": [
        {
          "output_type": "execute_result",
          "data": {
            "text/plain": [
              "dict_keys(['fruit1', 'fruit2', 'fruit3', 'fruit4'])"
            ]
          },
          "metadata": {},
          "execution_count": 34
        }
      ],
      "source": [
        "store_dict.keys()"
      ]
    },
    {
      "cell_type": "code",
      "execution_count": 35,
      "metadata": {
        "id": "SAuf1pmK0pGs",
        "colab": {
          "base_uri": "https://localhost:8080/"
        },
        "outputId": "fe89c66c-9f35-470d-d5fd-4ee1326b5eb9"
      },
      "outputs": [
        {
          "output_type": "execute_result",
          "data": {
            "text/plain": [
              "dict_values(['apple', 'banana', 'chiku', 'durian'])"
            ]
          },
          "metadata": {},
          "execution_count": 35
        }
      ],
      "source": [
        "store_dict.values()"
      ]
    },
    {
      "cell_type": "code",
      "execution_count": 36,
      "metadata": {
        "id": "yCd9biPb0pGs",
        "colab": {
          "base_uri": "https://localhost:8080/",
          "height": 35
        },
        "outputId": "92ee1a65-1ce9-4ac8-a910-20f56908a23a"
      },
      "outputs": [
        {
          "output_type": "execute_result",
          "data": {
            "text/plain": [
              "'banana'"
            ],
            "application/vnd.google.colaboratory.intrinsic+json": {
              "type": "string"
            }
          },
          "metadata": {},
          "execution_count": 36
        }
      ],
      "source": [
        "#print out banana\n",
        "store_dict['fruit2']"
      ]
    },
    {
      "cell_type": "markdown",
      "metadata": {
        "id": "ekMme84l0pGs"
      },
      "source": [
        "> Use a set instead."
      ]
    },
    {
      "cell_type": "code",
      "execution_count": 38,
      "metadata": {
        "id": "gXgF9GBJ0pGs",
        "colab": {
          "base_uri": "https://localhost:8080/"
        },
        "outputId": "e462ddfd-a47e-4736-e09f-7319c076fec2"
      },
      "outputs": [
        {
          "output_type": "stream",
          "name": "stdout",
          "text": [
            "{'apple', 'durian', 'banana', 'chiku'}\n"
          ]
        }
      ],
      "source": [
        "store_set = {\"apple\", \"banana\", \"chiku\", \"durian\"}\n",
        "print(store_set)"
      ]
    },
    {
      "cell_type": "code",
      "execution_count": 39,
      "metadata": {
        "id": "1RZ9TtIK0pGs",
        "colab": {
          "base_uri": "https://localhost:8080/"
        },
        "outputId": "378a872a-4350-4089-f641-efc2da2a1658"
      },
      "outputs": [
        {
          "output_type": "execute_result",
          "data": {
            "text/plain": [
              "set"
            ]
          },
          "metadata": {},
          "execution_count": 39
        }
      ],
      "source": [
        "type(store_set)"
      ]
    },
    {
      "cell_type": "code",
      "execution_count": null,
      "metadata": {
        "id": "kDVoZ_5k0pGs"
      },
      "outputs": [],
      "source": []
    },
    {
      "cell_type": "markdown",
      "metadata": {
        "id": "sQAGx7Zr0pGt"
      },
      "source": [
        "# !! Your Turn !!"
      ]
    },
    {
      "cell_type": "markdown",
      "metadata": {
        "id": "VQ1hDKY00pGt"
      },
      "source": [
        "## Replace the code marked as <..> COMPLETELY with your own.\n",
        "For example:\n",
        "length = <..> will be replaced by length = 10"
      ]
    },
    {
      "cell_type": "markdown",
      "metadata": {
        "id": "_qeKURK40pGt"
      },
      "source": [
        "# Question 1\n",
        "1) Store [2,4,6,8,10] into a variable data<br/>\n",
        "2) Print out the 1st element in this list."
      ]
    },
    {
      "cell_type": "code",
      "execution_count": 41,
      "metadata": {
        "id": "HYndNESs0pGt",
        "colab": {
          "base_uri": "https://localhost:8080/"
        },
        "outputId": "eab9c68f-27e4-4f3b-d02e-332391ac9cd1"
      },
      "outputs": [
        {
          "output_type": "stream",
          "name": "stdout",
          "text": [
            "2\n"
          ]
        }
      ],
      "source": [
        "data = [2,4,6,8,10]\n",
        "print(data[0]) #You should see the output 2"
      ]
    },
    {
      "cell_type": "markdown",
      "metadata": {
        "id": "98N_T4pC0pGt"
      },
      "source": [
        "# Question 2"
      ]
    },
    {
      "cell_type": "markdown",
      "metadata": {
        "id": "qLoj6J7Z0pGt"
      },
      "source": [
        "1) Store [1,3,5,7,9] into a variable data2<br/>\n",
        "2) Print out the 3rd element in this list."
      ]
    },
    {
      "cell_type": "code",
      "execution_count": 42,
      "metadata": {
        "id": "S6VySrxC0pGt",
        "colab": {
          "base_uri": "https://localhost:8080/"
        },
        "outputId": "aeb506e0-cc5e-435b-d249-1d0e097032f6"
      },
      "outputs": [
        {
          "output_type": "stream",
          "name": "stdout",
          "text": [
            "5\n"
          ]
        }
      ],
      "source": [
        "data2 =[1,3,5,7,9] \n",
        "print(data2[2]) #You should see the output 5"
      ]
    },
    {
      "cell_type": "markdown",
      "metadata": {
        "id": "byOAw7Co0pGu"
      },
      "source": [
        "# Question 3\n",
        "1) Concatenate the two lists <b>data</b> and <b>data2</b> together into a variable, <b>data3</b>.<br/>\n",
        "2) Print them out.<br/>"
      ]
    },
    {
      "cell_type": "code",
      "execution_count": 43,
      "metadata": {
        "id": "ALJ_KRdu0pGu",
        "colab": {
          "base_uri": "https://localhost:8080/"
        },
        "outputId": "ba4973ae-a02d-4c33-fea8-8b9e51dbc9ac"
      },
      "outputs": [
        {
          "output_type": "stream",
          "name": "stdout",
          "text": [
            "[2, 4, 6, 8, 10, 1, 3, 5, 7, 9]\n"
          ]
        }
      ],
      "source": [
        "data3 = data+data2\n",
        "print(data3)"
      ]
    },
    {
      "cell_type": "markdown",
      "metadata": {
        "id": "3SSNYhNM0pGu"
      },
      "source": [
        "3) If they are not in the correct running sequence, sort them.<br/>\n",
        "4) Print it out"
      ]
    },
    {
      "cell_type": "code",
      "execution_count": 44,
      "metadata": {
        "id": "Qpmvl9Sl0pGu",
        "colab": {
          "base_uri": "https://localhost:8080/"
        },
        "outputId": "064d4dc8-41bd-4ef7-e9bf-cd17625cc1a3"
      },
      "outputs": [
        {
          "output_type": "stream",
          "name": "stdout",
          "text": [
            "[1, 2, 3, 4, 5, 6, 7, 8, 9, 10]\n"
          ]
        }
      ],
      "source": [
        "data3.sort()\n",
        "print(data3)"
      ]
    },
    {
      "cell_type": "markdown",
      "metadata": {
        "id": "SbWsrF_H0pGu"
      },
      "source": [
        "# Question 4\n",
        "\n",
        "Let's try out mathematical operators on the lists and see if they work. <br/>\n",
        "1) Multiply the list, <b>data3</b>, by 2. What do you see?<br/>"
      ]
    },
    {
      "cell_type": "code",
      "execution_count": 51,
      "metadata": {
        "id": "Bcw-AibF0pGu",
        "colab": {
          "base_uri": "https://localhost:8080/"
        },
        "outputId": "4ea1e8ea-d244-404c-959b-344a51e4022a"
      },
      "outputs": [
        {
          "output_type": "stream",
          "name": "stdout",
          "text": [
            "[1, 2, 3, 4, 5, 6, 7, 8, 9, 10, 1, 2, 3, 4, 5, 6, 7, 8, 9, 10]\n"
          ]
        }
      ],
      "source": [
        "print(data3 * 2)"
      ]
    },
    {
      "cell_type": "markdown",
      "metadata": {
        "id": "QnyeONEZ0pGv"
      },
      "source": [
        "<i>Tips: Try out the other mathematical operators in the boxes below. Some may not work and may produce errors</i> "
      ]
    },
    {
      "cell_type": "code",
      "execution_count": 47,
      "metadata": {
        "id": "oUojNzs00pGv",
        "colab": {
          "base_uri": "https://localhost:8080/",
          "height": 183
        },
        "outputId": "32588cb6-95fc-4bf4-8c25-f77c5a8fd4ff"
      },
      "outputs": [
        {
          "output_type": "error",
          "ename": "TypeError",
          "evalue": "ignored",
          "traceback": [
            "\u001b[0;31m---------------------------------------------------------------------------\u001b[0m",
            "\u001b[0;31mTypeError\u001b[0m                                 Traceback (most recent call last)",
            "\u001b[0;32m<ipython-input-47-4080870b001f>\u001b[0m in \u001b[0;36m<cell line: 2>\u001b[0;34m()\u001b[0m\n\u001b[1;32m      1\u001b[0m \u001b[0;31m#use +\u001b[0m\u001b[0;34m\u001b[0m\u001b[0;34m\u001b[0m\u001b[0m\n\u001b[0;32m----> 2\u001b[0;31m \u001b[0mprint\u001b[0m\u001b[0;34m(\u001b[0m\u001b[0mdata3\u001b[0m\u001b[0;34m+\u001b[0m\u001b[0;36m3\u001b[0m\u001b[0;34m)\u001b[0m\u001b[0;34m\u001b[0m\u001b[0;34m\u001b[0m\u001b[0m\n\u001b[0m",
            "\u001b[0;31mTypeError\u001b[0m: can only concatenate list (not \"int\") to list"
          ]
        }
      ],
      "source": [
        "#use +\n",
        "print(data3+3)"
      ]
    },
    {
      "cell_type": "code",
      "execution_count": 48,
      "metadata": {
        "id": "X6IqoZ7L0pGv",
        "colab": {
          "base_uri": "https://localhost:8080/",
          "height": 183
        },
        "outputId": "354ccdaf-d387-4b6b-d549-b476156b2eb6"
      },
      "outputs": [
        {
          "output_type": "error",
          "ename": "TypeError",
          "evalue": "ignored",
          "traceback": [
            "\u001b[0;31m---------------------------------------------------------------------------\u001b[0m",
            "\u001b[0;31mTypeError\u001b[0m                                 Traceback (most recent call last)",
            "\u001b[0;32m<ipython-input-48-f9d61a2e44da>\u001b[0m in \u001b[0;36m<cell line: 2>\u001b[0;34m()\u001b[0m\n\u001b[1;32m      1\u001b[0m \u001b[0;31m#use -\u001b[0m\u001b[0;34m\u001b[0m\u001b[0;34m\u001b[0m\u001b[0m\n\u001b[0;32m----> 2\u001b[0;31m \u001b[0mprint\u001b[0m\u001b[0;34m(\u001b[0m\u001b[0mdata3\u001b[0m \u001b[0;34m-\u001b[0m \u001b[0;36m1\u001b[0m\u001b[0;34m)\u001b[0m\u001b[0;34m\u001b[0m\u001b[0;34m\u001b[0m\u001b[0m\n\u001b[0m",
            "\u001b[0;31mTypeError\u001b[0m: unsupported operand type(s) for -: 'list' and 'int'"
          ]
        }
      ],
      "source": [
        "#use -\n",
        "print(data3 - 1)"
      ]
    },
    {
      "cell_type": "code",
      "execution_count": 50,
      "metadata": {
        "id": "h0oz-SSS0pGv",
        "colab": {
          "base_uri": "https://localhost:8080/",
          "height": 183
        },
        "outputId": "04589289-ca2b-436a-bbd0-c51ac0a766a6"
      },
      "outputs": [
        {
          "output_type": "error",
          "ename": "TypeError",
          "evalue": "ignored",
          "traceback": [
            "\u001b[0;31m---------------------------------------------------------------------------\u001b[0m",
            "\u001b[0;31mTypeError\u001b[0m                                 Traceback (most recent call last)",
            "\u001b[0;32m<ipython-input-50-80021482d8d8>\u001b[0m in \u001b[0;36m<cell line: 2>\u001b[0;34m()\u001b[0m\n\u001b[1;32m      1\u001b[0m \u001b[0;31m#use /\u001b[0m\u001b[0;34m\u001b[0m\u001b[0;34m\u001b[0m\u001b[0m\n\u001b[0;32m----> 2\u001b[0;31m \u001b[0mprint\u001b[0m\u001b[0;34m(\u001b[0m\u001b[0mdata3\u001b[0m \u001b[0;34m/\u001b[0m \u001b[0;36m2\u001b[0m\u001b[0;34m)\u001b[0m\u001b[0;34m\u001b[0m\u001b[0;34m\u001b[0m\u001b[0m\n\u001b[0m",
            "\u001b[0;31mTypeError\u001b[0m: unsupported operand type(s) for /: 'list' and 'int'"
          ]
        }
      ],
      "source": [
        "#use /\n",
        "print(data3 / 2)"
      ]
    },
    {
      "cell_type": "markdown",
      "metadata": {
        "id": "XmuWl1mC0pGv"
      },
      "source": [
        "<i>This shows that you cannot apply mathematical operators to a list the way you would to numeric data types.</i> "
      ]
    },
    {
      "cell_type": "markdown",
      "metadata": {
        "id": "NbL5nyJ50pGv"
      },
      "source": [
        "# Question 5\n",
        "1) Create a variable, <b>storage</b>, that stores the following:<br/><br/>\n",
        "table<br/>\n",
        "chair<br/>\n",
        "fridge<br/>\n",
        "washing machine<br/><br/>\n",
        "2) print out the variable storage and verify the contents.\n",
        "Hint: You should see ['table', 'chair', 'fridge', 'washing machine']"
      ]
    },
    {
      "cell_type": "code",
      "execution_count": 53,
      "metadata": {
        "id": "9cRvs5370pGv",
        "colab": {
          "base_uri": "https://localhost:8080/"
        },
        "outputId": "dd0e0bcd-c5bd-40f5-d374-a65b1d9d62ab"
      },
      "outputs": [
        {
          "output_type": "stream",
          "name": "stdout",
          "text": [
            "['table', 'chair', 'fridge', 'washing machine']\n"
          ]
        }
      ],
      "source": [
        "storage = [\"table\",\"chair\",\"fridge\",\"washing machine\"]\n",
        "print(storage)"
      ]
    },
    {
      "cell_type": "markdown",
      "metadata": {
        "id": "rZVY9z5i0pGw"
      },
      "source": [
        "# Question 6\n",
        "1) You can add \"aircon\" into storage by doing <b>storage.append(\"aircon\")</b>.<br/>\n",
        "2) Do that, and print out the new storage variable to verify that \"aircon\" has been added.<br/>\n",
        "Hint: You should see ['table', 'chair', 'fridge', 'washing machine', 'aircon']"
      ]
    },
    {
      "cell_type": "code",
      "execution_count": 55,
      "metadata": {
        "id": "TVu6IBEa0pGw",
        "colab": {
          "base_uri": "https://localhost:8080/"
        },
        "outputId": "fd8d582f-0892-4349-f5ad-3dd197e70ca7"
      },
      "outputs": [
        {
          "output_type": "stream",
          "name": "stdout",
          "text": [
            "['table', 'chair', 'fridge', 'washing machine', 'aircon']\n"
          ]
        }
      ],
      "source": [
        "\n",
        "storage.append(\"aircon\")\n",
        "print(storage)"
      ]
    },
    {
      "cell_type": "markdown",
      "metadata": {
        "id": "qWN6-IOg0pGw"
      },
      "source": [
        "# Question 7\n",
        "1) You can remove \"chair\" from storage by doing <b>storage.remove(\"chair\")</b>.<br/>\n",
        "2) Do that, and print out the new storage variable to verify that \"chair\" has been removed.<br/>\n",
        "Hint: You should see ['table', 'fridge', 'washing machine', 'aircon']"
      ]
    },
    {
      "cell_type": "code",
      "execution_count": 57,
      "metadata": {
        "id": "mt77o7Ep0pGw",
        "colab": {
          "base_uri": "https://localhost:8080/"
        },
        "outputId": "a1f5269f-5216-4335-9d92-f485b4f4aae0"
      },
      "outputs": [
        {
          "output_type": "stream",
          "name": "stdout",
          "text": [
            "['table', 'fridge', 'washing machine', 'aircon']\n"
          ]
        }
      ],
      "source": [
        "storage.remove(\"chair\")\n",
        "print(storage)"
      ]
    },
    {
      "cell_type": "markdown",
      "metadata": {
        "id": "2s09jY8h0pGw"
      },
      "source": [
        "# Question 8\n",
        "1) <b>|value| in storage</b> allows you to check whether an item is inside the list.<br/>\n",
        "2) For example, <b>\"table\" in storage</b> will return true.<br/>\n",
        "3) Write the code to check if the item \"fridge\" is inside storage.<br/>"
      ]
    },
    {
      "cell_type": "code",
      "execution_count": 59,
      "metadata": {
        "id": "DRXDHBat0pGw",
        "colab": {
          "base_uri": "https://localhost:8080/"
        },
        "outputId": "e4a9cd5e-baf5-4629-cd21-fc23bd47c5a4"
      },
      "outputs": [
        {
          "output_type": "stream",
          "name": "stdout",
          "text": [
            "True\n"
          ]
        }
      ],
      "source": [
        "print(\"fridge\" in storage)"
      ]
    },
    {
      "cell_type": "markdown",
      "metadata": {
        "id": "61ODi07C0pGw"
      },
      "source": [
        "# Question 9\n",
        "1) Create a dictionary, <b>postal_to_town</b> that stores the following key-value pairs.<br/>\n",
        "760702 --> Yishun\n",
        "530406 --> Hougang\n",
        "600212 --> Jurong East"
      ]
    },
    {
      "cell_type": "code",
      "execution_count": 60,
      "metadata": {
        "id": "-O_olgTN0pGx"
      },
      "outputs": [],
      "source": [
        "postal_to_town = {760702:\"Yishun\",530406:\"Hougang\",600212:\"Jurong East\"}"
      ]
    },
    {
      "cell_type": "markdown",
      "metadata": {
        "id": "5osNykLD0pGx"
      },
      "source": [
        "2) Print out the town by referencing postal '760702'<br/>\n",
        "You should see Yishun"
      ]
    },
    {
      "cell_type": "code",
      "execution_count": 61,
      "metadata": {
        "id": "PKzD6vRr0pGx",
        "colab": {
          "base_uri": "https://localhost:8080/"
        },
        "outputId": "575ea1b2-1254-4f5b-b550-49188c4236c3"
      },
      "outputs": [
        {
          "output_type": "stream",
          "name": "stdout",
          "text": [
            "Yishun\n"
          ]
        }
      ],
      "source": [
        "print(postal_to_town[760702])"
      ]
    },
    {
      "cell_type": "markdown",
      "metadata": {
        "id": "403pc78D0pGx"
      },
      "source": [
        "3) Print out the town by referencing postal '530406'<br/>\n",
        "You should see Hougang"
      ]
    },
    {
      "cell_type": "code",
      "execution_count": 62,
      "metadata": {
        "id": "h3ysQXEe0pGx",
        "colab": {
          "base_uri": "https://localhost:8080/"
        },
        "outputId": "08b3a9b9-09c2-4408-d5e1-d6739f2b712f"
      },
      "outputs": [
        {
          "output_type": "stream",
          "name": "stdout",
          "text": [
            "Hougang\n"
          ]
        }
      ],
      "source": [
        "print(postal_to_town[530406])"
      ]
    },
    {
      "cell_type": "markdown",
      "metadata": {
        "id": "UDLNedrH0pGx"
      },
      "source": [
        "4) Print out the town by referencing postal '600212'<br/>\n",
        "You should see Jurong East"
      ]
    },
    {
      "cell_type": "code",
      "execution_count": 63,
      "metadata": {
        "id": "Q9aMfhrH0pGx",
        "colab": {
          "base_uri": "https://localhost:8080/"
        },
        "outputId": "37ed6c82-ef46-4dff-e113-520c3a10844c"
      },
      "outputs": [
        {
          "output_type": "stream",
          "name": "stdout",
          "text": [
            "Jurong East\n"
          ]
        }
      ],
      "source": [
        "print(postal_to_town[600212])"
      ]
    },
    {
      "cell_type": "markdown",
      "metadata": {
        "id": "JEPsOCCA0pGx"
      },
      "source": [
        "4) Print out the town by referencing postal '138577'<br/>\n",
        "What do you see?"
      ]
    },
    {
      "cell_type": "code",
      "execution_count": 64,
      "metadata": {
        "id": "I2bGv43p0pGy",
        "colab": {
          "base_uri": "https://localhost:8080/",
          "height": 165
        },
        "outputId": "2b0adf8d-8cb1-48ed-f86f-e5e5ef226500"
      },
      "outputs": [
        {
          "output_type": "error",
          "ename": "KeyError",
          "evalue": "ignored",
          "traceback": [
            "\u001b[0;31m---------------------------------------------------------------------------\u001b[0m",
            "\u001b[0;31mKeyError\u001b[0m                                  Traceback (most recent call last)",
            "\u001b[0;32m<ipython-input-64-b764cb38c067>\u001b[0m in \u001b[0;36m<cell line: 1>\u001b[0;34m()\u001b[0m\n\u001b[0;32m----> 1\u001b[0;31m \u001b[0mprint\u001b[0m\u001b[0;34m(\u001b[0m\u001b[0mpostal_to_town\u001b[0m\u001b[0;34m[\u001b[0m\u001b[0;36m138577\u001b[0m\u001b[0;34m]\u001b[0m\u001b[0;34m)\u001b[0m\u001b[0;34m\u001b[0m\u001b[0;34m\u001b[0m\u001b[0m\n\u001b[0m",
            "\u001b[0;31mKeyError\u001b[0m: 138577"
          ]
        }
      ],
      "source": [
        "print(postal_to_town[138577])"
      ]
    },
    {
      "cell_type": "markdown",
      "metadata": {
        "id": "wsb753vi0pGy"
      },
      "source": [
        "# Question 10*"
      ]
    },
    {
      "cell_type": "markdown",
      "metadata": {
        "id": "D3lOgE4V0pGy"
      },
      "source": [
        "1) Decide on a data type to use for the following use case: <br/>\n",
        "- I want to read in values and store them as I read them in sequentially.<br/>\n",
        "- Order matters.<br/>\n",
        "- Repeated values are ok.<br/>\n",
        "- I want to be able to remove some of the items too.<br/>\n",
        "\n",
        "2) When you have decided, create such a variable called <b>zoo2</b> and store the following values into it:<br/>\n",
        "- lion<br/>\n",
        "- tiger<br/>\n",
        "- giraffe<br/>\n",
        "- hippo<br/>\n",
        "- monkey<br/>"
      ]
    },
    {
      "cell_type": "code",
      "execution_count": 69,
      "metadata": {
        "id": "H4KbkW6h0pGy"
      },
      "outputs": [],
      "source": [
        "zoo2=[\"lion\",\"tiger\",\"giraffe\",\"hippo\",\"monkey\"]"
      ]
    },
    {
      "cell_type": "markdown",
      "metadata": {
        "id": "nk_zf9XK0pGy"
      },
      "source": [
        "3) Write code into the cell below such that you will prompt the user to tell you an animal, then store it into the existing data in the variable <b>zoo2</b>.<br/>\n",
        "4) Then, run the cell below 3 times, and input the following values:<br/>\n",
        "- bird<br/>\n",
        "- panda<br/>\n",
        "- monkey<br/>"
      ]
    },
    {
      "cell_type": "code",
      "execution_count": 73,
      "metadata": {
        "id": "wwZYWRfP0pGy",
        "colab": {
          "base_uri": "https://localhost:8080/"
        },
        "outputId": "3c58dada-40e4-4d8f-98d2-ca9dc23bd3fa"
      },
      "outputs": [
        {
          "name": "stdout",
          "output_type": "stream",
          "text": [
            "Tell me the name of an animalmonkey\n"
          ]
        }
      ],
      "source": [
        "zoo2.append(input(\"Tell me the name of an animal\"))"
      ]
    },
    {
      "cell_type": "markdown",
      "metadata": {
        "id": "lQPMlLph0pGy"
      },
      "source": [
        "5) Print out the variable <b>zoo2</b>. It should contain the following in order:<br/>\n",
        "- lion<br/>\n",
        "- tiger<br>\n",
        "- giraffe<br>\n",
        "- hippo<br>\n",
        "- monkey<br>\n",
        "- bird<br>\n",
        "- panda<br>\n",
        "- monkey<br>"
      ]
    },
    {
      "cell_type": "code",
      "execution_count": 74,
      "metadata": {
        "id": "AyotCz2m0pGz",
        "colab": {
          "base_uri": "https://localhost:8080/"
        },
        "outputId": "7f972ccb-56f4-46d5-c381-14a91107e663"
      },
      "outputs": [
        {
          "output_type": "stream",
          "name": "stdout",
          "text": [
            "['lion', 'tiger', 'giraffe', 'hippo', 'monkey', 'bird', 'panda', 'monkey']\n"
          ]
        }
      ],
      "source": [
        "print(zoo2)"
      ]
    },
    {
      "cell_type": "markdown",
      "metadata": {
        "id": "fPBHU3uq0pGz"
      },
      "source": [
        "6) Write code into the cell below such that you will prompt the user to tell you an animal, then remove it from the existing data in the variable <b>zoo2</b>.<br/>\n",
        "7) Then, run the cell below 3 times, and input the following values:<br/>\n",
        "- tiger<br/>\n",
        "- monkey<br/>\n",
        "- giraffe<br/>"
      ]
    },
    {
      "cell_type": "code",
      "execution_count": 79,
      "metadata": {
        "id": "mPapD_x20pGz",
        "colab": {
          "base_uri": "https://localhost:8080/"
        },
        "outputId": "f8621823-6516-42b0-de1c-f85023b7aaaa"
      },
      "outputs": [
        {
          "name": "stdout",
          "output_type": "stream",
          "text": [
            "What animal do you hate?giraffe\n"
          ]
        }
      ],
      "source": [
        "zoo2.remove(input(\"What animal do you hate?\"))\n"
      ]
    },
    {
      "cell_type": "markdown",
      "metadata": {
        "id": "O_kHrAHT0pGz"
      },
      "source": [
        "8) Print out the variable <b>zoo2</b>. It should contain the following in order:<br/>\n",
        "- lion<br/>\n",
        "- hippo<br>\n",
        "- bird<br>\n",
        "- panda<br>\n",
        "- monkey<br>"
      ]
    },
    {
      "cell_type": "code",
      "execution_count": 80,
      "metadata": {
        "id": "57q5-3K80pGz",
        "colab": {
          "base_uri": "https://localhost:8080/"
        },
        "outputId": "61de332a-8b7f-4511-9bcb-d77dd28fef5a"
      },
      "outputs": [
        {
          "output_type": "stream",
          "name": "stdout",
          "text": [
            "['lion', 'hippo', 'bird', 'panda', 'monkey']\n"
          ]
        }
      ],
      "source": [
        "print(zoo2)"
      ]
    },
    {
      "cell_type": "markdown",
      "metadata": {
        "id": "CWpW4sa_0pGz"
      },
      "source": [
        "# Question 11 *"
      ]
    },
    {
      "cell_type": "markdown",
      "metadata": {
        "id": "nem8JCD_0pGz"
      },
      "source": [
        "1) Decide on a data type to use for the following use case: <br/>\n",
        "- I want to read in a pair of key and values and store them.<br/>\n",
        "- Order does not matter.<br/>\n",
        "- Repeated values are ok.<br/>\n",
        "- I want to be able to change some of the values for the keys too.<br/>\n",
        "\n",
        "2) When you have decided, create such a variable called <b>zoo3</b> and store the following key - values into it:<br/>\n",
        "- lion - c<br/>\n",
        "- tiger - h<br/>\n",
        "- giraffe - h<br/>\n",
        "- hippo - h<br/>\n",
        "- monkey - o<br/><br/>\n",
        "<i>Note: key is lion, value is c</i>"
      ]
    },
    {
      "cell_type": "code",
      "execution_count": 82,
      "metadata": {
        "id": "P-efRRzW0pGz"
      },
      "outputs": [],
      "source": [
        "zoo3={\"lion\":\"c\",\"tiger\":\"h\",\"giraffe\":\"h\",\"hippo\":\"h\",\"monkey\":\"o\"}"
      ]
    },
    {
      "cell_type": "markdown",
      "metadata": {
        "id": "GlJq2cNQ0pG0"
      },
      "source": [
        "3) Write code into the cell below such that you will prompt the user to tell you an animal.<br/>\n",
        "4) Then, run the cell below 1 time, and input the following values:<br/>\n",
        "- bird<br/>"
      ]
    },
    {
      "cell_type": "code",
      "execution_count": 85,
      "metadata": {
        "id": "8Iwuy_2A0pG0",
        "colab": {
          "base_uri": "https://localhost:8080/"
        },
        "outputId": "e2e987ed-9457-4574-bcf7-8a35bc165485"
      },
      "outputs": [
        {
          "name": "stdout",
          "output_type": "stream",
          "text": [
            "What is your favourite animal?bird\n"
          ]
        }
      ],
      "source": [
        "newanimal=input(\"What is your favourite animal?\")"
      ]
    },
    {
      "cell_type": "markdown",
      "metadata": {
        "id": "_HUukz7G0pG0"
      },
      "source": [
        "5) Write code into the cell below such that you will prompt the user to tell you whether the animal is a carnivore, herbivore or omnivore.<br/>\n",
        "The user simply keys in c, h or o.<br/>\n",
        "6) Then, run the cell below 1 time, and input the following values:<br/>\n",
        "- o<br/>"
      ]
    },
    {
      "cell_type": "code",
      "execution_count": 86,
      "metadata": {
        "id": "_8Xhl0iZ0pG0",
        "colab": {
          "base_uri": "https://localhost:8080/"
        },
        "outputId": "e91d25d8-15fb-43e7-8087-6fed46f1b16b"
      },
      "outputs": [
        {
          "name": "stdout",
          "output_type": "stream",
          "text": [
            "Is it a a canivore, herbivore or omnivore? (Enter c,h or o)o\n"
          ]
        }
      ],
      "source": [
        "diet=input(\"Is it a a canivore, herbivore or omnivore? (Enter c,h or o)\")"
      ]
    },
    {
      "cell_type": "markdown",
      "metadata": {
        "id": "QEk1KYTo0pG0"
      },
      "source": [
        "7) Add the new animal and its dietary preference into <b>zoo3</b>.<br/>\n",
        "Print out <b>zoo3</b>."
      ]
    },
    {
      "cell_type": "code",
      "execution_count": 87,
      "metadata": {
        "id": "mTnZLAkQ0pG0",
        "colab": {
          "base_uri": "https://localhost:8080/"
        },
        "outputId": "732da882-6662-435a-ccc0-4a349abb535d"
      },
      "outputs": [
        {
          "output_type": "stream",
          "name": "stdout",
          "text": [
            "{'lion': 'c', 'tiger': 'h', 'giraffe': 'h', 'hippo': 'h', 'monkey': 'o', 'bird': 'o'}\n"
          ]
        }
      ],
      "source": [
        "zoo3[newanimal]=diet\n",
        "print(zoo3)"
      ]
    },
    {
      "cell_type": "markdown",
      "metadata": {
        "id": "d6RDF9nd0pG0"
      },
      "source": [
        "8) You realised you made a mistake with the dietary preference for the tiger earlier on. Write the code to change it from an 'h' to a 'c'.<br/>\n",
        "Print out <b>zoo3</b>."
      ]
    },
    {
      "cell_type": "code",
      "execution_count": 89,
      "metadata": {
        "id": "NnyKkDOp0pG0",
        "colab": {
          "base_uri": "https://localhost:8080/"
        },
        "outputId": "1347ddb7-bbc5-4f09-d610-7ce6543934d7"
      },
      "outputs": [
        {
          "output_type": "stream",
          "name": "stdout",
          "text": [
            "{'lion': 'c', 'tiger': 'c', 'giraffe': 'h', 'hippo': 'h', 'monkey': 'o', 'bird': 'o'}\n"
          ]
        }
      ],
      "source": [
        "zoo3[\"tiger\"]=\"c\"\n",
        "print(zoo3)"
      ]
    }
  ],
  "metadata": {
    "kernelspec": {
      "display_name": "Python 3 (ipykernel)",
      "language": "python",
      "name": "python3"
    },
    "language_info": {
      "codemirror_mode": {
        "name": "ipython",
        "version": 3
      },
      "file_extension": ".py",
      "mimetype": "text/x-python",
      "name": "python",
      "nbconvert_exporter": "python",
      "pygments_lexer": "ipython3",
      "version": "3.9.7"
    },
    "colab": {
      "provenance": [],
      "include_colab_link": true
    }
  },
  "nbformat": 4,
  "nbformat_minor": 0
}