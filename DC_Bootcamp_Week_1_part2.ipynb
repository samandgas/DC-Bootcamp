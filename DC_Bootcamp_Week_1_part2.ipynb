{
  "cells": [
    {
      "cell_type": "markdown",
      "metadata": {
        "id": "view-in-github",
        "colab_type": "text"
      },
      "source": [
        "<a href=\"https://colab.research.google.com/github/samandgas/DC-Bootcamp/blob/main/DC_Bootcamp_Week_1_part2.ipynb\" target=\"_parent\"><img src=\"https://colab.research.google.com/assets/colab-badge.svg\" alt=\"Open In Colab\"/></a>"
      ]
    },
    {
      "cell_type": "markdown",
      "metadata": {
        "id": "4bc2g4vAowjl"
      },
      "source": [
        "# String Operations"
      ]
    },
    {
      "cell_type": "markdown",
      "metadata": {
        "id": "lPXTxt5towjn"
      },
      "source": [
        "## Run The Following Code\n",
        "Hit SHIFT + ENTER when your cusor is inside the cell of code.<br/>"
      ]
    },
    {
      "cell_type": "markdown",
      "metadata": {
        "id": "tDLKhNcGowjo"
      },
      "source": [
        "> Take note: variable names and strings are case sensitive."
      ]
    },
    {
      "cell_type": "code",
      "execution_count": null,
      "metadata": {
        "id": "LjrytEMvowjo",
        "outputId": "78f34013-500e-4f92-a0ea-cc8c8ef78832"
      },
      "outputs": [
        {
          "name": "stdout",
          "output_type": "stream",
          "text": [
            "hello\n"
          ]
        }
      ],
      "source": [
        "Data = 'hello'\n",
        "print(Data)"
      ]
    },
    {
      "cell_type": "code",
      "execution_count": null,
      "metadata": {
        "id": "f3Mjq1fgowjp",
        "outputId": "6e0db5e6-d84b-4a3d-a472-708d83190e1f"
      },
      "outputs": [
        {
          "ename": "NameError",
          "evalue": "name 'data' is not defined",
          "output_type": "error",
          "traceback": [
            "\u001b[1;31m---------------------------------------------------------------------------\u001b[0m",
            "\u001b[1;31mNameError\u001b[0m                                 Traceback (most recent call last)",
            "\u001b[1;32m~\\AppData\\Local\\Temp/ipykernel_12196/927109222.py\u001b[0m in \u001b[0;36m<module>\u001b[1;34m\u001b[0m\n\u001b[1;32m----> 1\u001b[1;33m \u001b[0mprint\u001b[0m\u001b[1;33m(\u001b[0m\u001b[0mdata\u001b[0m\u001b[1;33m)\u001b[0m\u001b[1;33m\u001b[0m\u001b[1;33m\u001b[0m\u001b[0m\n\u001b[0m",
            "\u001b[1;31mNameError\u001b[0m: name 'data' is not defined"
          ]
        }
      ],
      "source": [
        "print(data)"
      ]
    },
    {
      "cell_type": "markdown",
      "metadata": {
        "id": "Oz7PHMYvowjp"
      },
      "source": [
        "> Add up the following strings: \"S\" , \"1234567\", \"A\". Assign them to the variable <b>nric</b>"
      ]
    },
    {
      "cell_type": "code",
      "execution_count": null,
      "metadata": {
        "id": "efl0CUMDowjq"
      },
      "outputs": [],
      "source": [
        "nric = \"S\" + \"1234567\" + \"A\""
      ]
    },
    {
      "cell_type": "markdown",
      "metadata": {
        "id": "3qsrR5WLowjq"
      },
      "source": [
        "> You can also use a mix of single, or double quotes."
      ]
    },
    {
      "cell_type": "code",
      "execution_count": null,
      "metadata": {
        "id": "6Isr-0W1owjq",
        "outputId": "3862c0f7-bf0f-43ac-f962-6390743637a6"
      },
      "outputs": [
        {
          "name": "stdout",
          "output_type": "stream",
          "text": [
            "S1234567A\n"
          ]
        }
      ],
      "source": [
        "nric = \"S\" + '1234567' + \"A\"\n",
        "print(nric)"
      ]
    },
    {
      "cell_type": "markdown",
      "metadata": {
        "id": "pJ0HyDfpowjq"
      },
      "source": [
        "> Find out the length the variable <b>nric</b>"
      ]
    },
    {
      "cell_type": "code",
      "execution_count": null,
      "metadata": {
        "id": "UcQp1Kitowjq",
        "outputId": "1a63828e-850d-499c-b50f-2a228d5b7649"
      },
      "outputs": [
        {
          "name": "stdout",
          "output_type": "stream",
          "text": [
            "9\n"
          ]
        }
      ],
      "source": [
        "print( len(nric) )"
      ]
    },
    {
      "cell_type": "markdown",
      "metadata": {
        "id": "ZCWl6zI3owjr"
      },
      "source": [
        "> Print out what is the data type of the variable <b>nric</b>"
      ]
    },
    {
      "cell_type": "code",
      "execution_count": null,
      "metadata": {
        "id": "CMKfnEaNowjr",
        "outputId": "5a7a20a0-6c71-4304-af9e-163953bb25e1"
      },
      "outputs": [
        {
          "data": {
            "text/plain": [
              "str"
            ]
          },
          "execution_count": 6,
          "metadata": {},
          "output_type": "execute_result"
        }
      ],
      "source": [
        "type(nric)"
      ]
    },
    {
      "cell_type": "markdown",
      "metadata": {
        "id": "vv83nKj1owjr"
      },
      "source": [
        "> Print out the first character of <b>nric</b>"
      ]
    },
    {
      "cell_type": "code",
      "execution_count": null,
      "metadata": {
        "id": "zs1pMJyMowjr",
        "outputId": "0de3e781-441d-46c9-e8f0-cb213269a721"
      },
      "outputs": [
        {
          "name": "stdout",
          "output_type": "stream",
          "text": [
            "S\n"
          ]
        }
      ],
      "source": [
        "print( nric[0] )"
      ]
    },
    {
      "cell_type": "markdown",
      "metadata": {
        "id": "DXdtvE6Vowjr"
      },
      "source": [
        "> Print out the last character of <b>nric</b>"
      ]
    },
    {
      "cell_type": "code",
      "execution_count": null,
      "metadata": {
        "scrolled": true,
        "id": "HMkumNSWowjr",
        "outputId": "2715c861-f761-4a54-d903-a4e2ba50770e"
      },
      "outputs": [
        {
          "name": "stdout",
          "output_type": "stream",
          "text": [
            "A\n"
          ]
        }
      ],
      "source": [
        "print( nric[-1] )"
      ]
    },
    {
      "cell_type": "markdown",
      "metadata": {
        "id": "lzubbM87owjs"
      },
      "source": [
        "> Print out the numbers in <b>nric</b>, which are from the 2nd character to the 9th character"
      ]
    },
    {
      "cell_type": "code",
      "execution_count": null,
      "metadata": {
        "id": "l-U2x8Ibowjs",
        "outputId": "f3733771-27b0-40a3-c5e2-5e6636674028"
      },
      "outputs": [
        {
          "name": "stdout",
          "output_type": "stream",
          "text": [
            "1234567\n"
          ]
        }
      ],
      "source": [
        "print( nric[1:8] )"
      ]
    },
    {
      "cell_type": "code",
      "execution_count": null,
      "metadata": {
        "id": "rrd7mL-Uowjs",
        "outputId": "c79a70c9-a080-454c-da97-261783c8b173"
      },
      "outputs": [
        {
          "name": "stdout",
          "output_type": "stream",
          "text": [
            "S1234567\n"
          ]
        }
      ],
      "source": [
        "print( nric[:8] )\n",
        "\n",
        "#or...\n",
        "#print( nric[0:8] )"
      ]
    },
    {
      "cell_type": "markdown",
      "metadata": {
        "id": "1nxjMhsnowjs"
      },
      "source": [
        "> Print out the all the numbers of the <b>nric</b> as well as the last character."
      ]
    },
    {
      "cell_type": "code",
      "execution_count": null,
      "metadata": {
        "id": "pfPUGuFWowjs",
        "outputId": "abee18a0-a5c9-456f-c291-10bcab38fe68"
      },
      "outputs": [
        {
          "name": "stdout",
          "output_type": "stream",
          "text": [
            "1234567A\n"
          ]
        }
      ],
      "source": [
        "print( nric[1:] )\n",
        "\n",
        "#or...\n",
        "#print( nric[1:9] )"
      ]
    },
    {
      "cell_type": "markdown",
      "metadata": {
        "id": "fm0UxGA_owjs"
      },
      "source": [
        "> You realised that <b>nric</b> has an error. The last character should be \"D\". Replace the last character from \"A\" to \"D\". This is the WRONG way to do it."
      ]
    },
    {
      "cell_type": "code",
      "execution_count": null,
      "metadata": {
        "id": "a7XMd3_1owjs",
        "outputId": "78c5ac18-16de-4d9b-8729-f8ce9e330009"
      },
      "outputs": [
        {
          "ename": "TypeError",
          "evalue": "'str' object does not support item assignment",
          "output_type": "error",
          "traceback": [
            "\u001b[1;31m---------------------------------------------------------------------------\u001b[0m",
            "\u001b[1;31mTypeError\u001b[0m                                 Traceback (most recent call last)",
            "\u001b[1;32m~\\AppData\\Local\\Temp/ipykernel_12196/777716791.py\u001b[0m in \u001b[0;36m<module>\u001b[1;34m\u001b[0m\n\u001b[1;32m----> 1\u001b[1;33m \u001b[0mnric\u001b[0m\u001b[1;33m[\u001b[0m\u001b[1;36m8\u001b[0m\u001b[1;33m]\u001b[0m \u001b[1;33m=\u001b[0m \u001b[1;34m\"D\"\u001b[0m\u001b[1;33m\u001b[0m\u001b[1;33m\u001b[0m\u001b[0m\n\u001b[0m",
            "\u001b[1;31mTypeError\u001b[0m: 'str' object does not support item assignment"
          ]
        }
      ],
      "source": [
        "nric[8] = \"D\""
      ]
    },
    {
      "cell_type": "markdown",
      "metadata": {
        "id": "5a_-Iw0lowjs"
      },
      "source": [
        "> Strings are immutable. That means you can't change it after you assigned it. This is how you do it and store in a new variable <b>nric2</b>"
      ]
    },
    {
      "cell_type": "code",
      "execution_count": null,
      "metadata": {
        "id": "SkFJ3qKbowjt"
      },
      "outputs": [],
      "source": [
        "nric2 = nric[0:8] + \"D\"\n",
        "print( nric2 )"
      ]
    },
    {
      "cell_type": "markdown",
      "metadata": {
        "id": "9R3-02Yyowjt"
      },
      "source": [
        "> You can find out a list of methods associated with a string by pressing TAB after putting a dot after the string variable."
      ]
    },
    {
      "cell_type": "code",
      "execution_count": null,
      "metadata": {
        "id": "4C2gk8_Howjt"
      },
      "outputs": [],
      "source": [
        "string = \"Hello\""
      ]
    },
    {
      "cell_type": "code",
      "execution_count": null,
      "metadata": {
        "id": "486JVCiMowjt"
      },
      "outputs": [],
      "source": [
        "string."
      ]
    },
    {
      "cell_type": "markdown",
      "metadata": {
        "id": "q84PMjw1owjt"
      },
      "source": [
        "> the input() function allows you to read in a string"
      ]
    },
    {
      "cell_type": "code",
      "execution_count": null,
      "metadata": {
        "id": "UOG-GoTBowjt"
      },
      "outputs": [],
      "source": [
        "name = input(\"What is your name? \")"
      ]
    },
    {
      "cell_type": "code",
      "execution_count": null,
      "metadata": {
        "id": "tpzFt1NQowjt"
      },
      "outputs": [],
      "source": [
        "print(name)"
      ]
    },
    {
      "cell_type": "markdown",
      "metadata": {
        "id": "Gy3g5kwBowjt"
      },
      "source": [
        "# !! Your Turn !!"
      ]
    },
    {
      "cell_type": "markdown",
      "metadata": {
        "id": "T5PigHiKowjt"
      },
      "source": [
        "## Replace the code marked as <..> COMPLETELY with your own.\n",
        "For example:\n",
        "length = <..> will be replaced by length = 10"
      ]
    },
    {
      "cell_type": "markdown",
      "metadata": {
        "id": "ayTN_de7owjt"
      },
      "source": [
        "# Question 1\n",
        "1) Store the following text in a variable text_1:<br/><br/>\n",
        "   He's my friend.<br/><br/>\n",
        "2) Print it out<br/>"
      ]
    },
    {
      "cell_type": "code",
      "execution_count": null,
      "metadata": {
        "id": "LFHZSlyhowjt"
      },
      "outputs": [],
      "source": [
        "text_1 = <..>\n",
        "print(<..>)"
      ]
    },
    {
      "cell_type": "markdown",
      "metadata": {
        "id": "ygb1fyArowjt"
      },
      "source": [
        "# Question 2\n",
        "1) Store the following text in a variable text_2:<br/><br/>\n",
        "   He said, \"How do you do!\"<br/><br/>\n",
        "2) Print it out<br/>"
      ]
    },
    {
      "cell_type": "code",
      "execution_count": null,
      "metadata": {
        "id": "aHX1UHo4owjt"
      },
      "outputs": [],
      "source": [
        "text_2 = <..>\n",
        "print(<..>)"
      ]
    },
    {
      "cell_type": "markdown",
      "metadata": {
        "id": "gxRIPVnbowju"
      },
      "source": [
        "# Question 3\n",
        "1) Store the following text in a variable text_3:<br/><br/>\n",
        "   He's my friend. He said, \"How do you do!\"<br/><br/>\n",
        "   Hint: Make use of text_1 and text_2  "
      ]
    },
    {
      "cell_type": "code",
      "execution_count": null,
      "metadata": {
        "id": "CWD5H7ZDowju"
      },
      "outputs": [],
      "source": [
        "text_3 = <..> + <..>\n",
        "print(<..>)"
      ]
    },
    {
      "cell_type": "markdown",
      "metadata": {
        "id": "lHasmagcowju"
      },
      "source": [
        "The two sentences seem to be meshed up together. How can you add in the full stop and a space between the two sentences?"
      ]
    },
    {
      "cell_type": "code",
      "execution_count": null,
      "metadata": {
        "id": "Kz3oho1Zowju"
      },
      "outputs": [],
      "source": []
    },
    {
      "cell_type": "markdown",
      "metadata": {
        "id": "NJtrpWqfowju"
      },
      "source": [
        "# Question 4\n",
        "1) Let's explore what happens when using mathematical operators on strings<br/>\n",
        "2) Add \"Pine\" and \"apple\"<br/>"
      ]
    },
    {
      "cell_type": "code",
      "execution_count": null,
      "metadata": {
        "id": "x9j8CVMIowju"
      },
      "outputs": [],
      "source": [
        "<..> + <..>"
      ]
    },
    {
      "cell_type": "markdown",
      "metadata": {
        "id": "0hxW417dowju"
      },
      "source": [
        "# Question 5\n",
        "1) Multiply \"Apple\" by 5<br/>"
      ]
    },
    {
      "cell_type": "code",
      "execution_count": null,
      "metadata": {
        "scrolled": true,
        "id": "jS4qzI9Qowju"
      },
      "outputs": [],
      "source": [
        "<..> * <..>"
      ]
    },
    {
      "cell_type": "markdown",
      "metadata": {
        "id": "Mlh3PqrIowju"
      },
      "source": [
        "2) What is the result of the following code. Make a guess first before running it."
      ]
    },
    {
      "cell_type": "code",
      "execution_count": null,
      "metadata": {
        "id": "JM_hLkoDowju"
      },
      "outputs": [],
      "source": [
        "fruit = \"Apple\"\n",
        "fruit = fruit + \"Apple\"\n",
        "fruit = fruit + \"Apple\"\n",
        "fruit = fruit + \"Apple\"\n",
        "fruit = fruit + \"Apple\"\n",
        "\n",
        "print(fruit)"
      ]
    },
    {
      "cell_type": "markdown",
      "metadata": {
        "id": "pZDvAP64owju"
      },
      "source": [
        "# Question 6\n",
        "1) Subtract \"apple\" from \"Pineapple\"<br/>\n",
        "2) Does it work?<br/>"
      ]
    },
    {
      "cell_type": "code",
      "execution_count": null,
      "metadata": {
        "id": "-C9ThMT3owju"
      },
      "outputs": [],
      "source": [
        "<..> - <..>"
      ]
    },
    {
      "cell_type": "markdown",
      "metadata": {
        "id": "Er2iqRO7owju"
      },
      "source": [
        "# Question 7\n",
        "Note:<br/>\n",
        "We can convert from one data type to the other<br/>\n",
        "Use int(x) to convert x from a string to an integer<br/>\n",
        "Use str(x) to convert x from an integer to a string<br/><br/>"
      ]
    },
    {
      "cell_type": "code",
      "execution_count": null,
      "metadata": {
        "id": "AdyOafLAowju"
      },
      "outputs": [],
      "source": [
        "name = \"James Bond\"\n",
        "codename = \"007\""
      ]
    },
    {
      "cell_type": "code",
      "execution_count": null,
      "metadata": {
        "id": "e2iJJvRVowju"
      },
      "outputs": [],
      "source": [
        "type(codename)"
      ]
    },
    {
      "cell_type": "code",
      "execution_count": null,
      "metadata": {
        "id": "5jCCNuNKowjv"
      },
      "outputs": [],
      "source": [
        "codenumber = int(codename)\n",
        "print(codenumber)"
      ]
    },
    {
      "cell_type": "code",
      "execution_count": null,
      "metadata": {
        "id": "cj0S-GiXowjv"
      },
      "outputs": [],
      "source": [
        "type(codenumber)"
      ]
    },
    {
      "cell_type": "markdown",
      "metadata": {
        "id": "07Vm1KC5owjv"
      },
      "source": [
        "1) Declare a variable <b>height_record</b> which stores the string \"I am 180cm.\"<br/>"
      ]
    },
    {
      "cell_type": "code",
      "execution_count": null,
      "metadata": {
        "id": "d8lEogigowjv"
      },
      "outputs": [],
      "source": [
        "height_record = <..>"
      ]
    },
    {
      "cell_type": "markdown",
      "metadata": {
        "id": "HAcKdKLvowjv"
      },
      "source": [
        "2) Extract the height from this variable and store in a variable <b>height</b>. Print it out."
      ]
    },
    {
      "cell_type": "code",
      "execution_count": null,
      "metadata": {
        "id": "gd1FHw8lowjv"
      },
      "outputs": [],
      "source": [
        "height = height_record[ <..> ]\n",
        "print(<..>)\n",
        "#You should see 180 being printed out from the variable height"
      ]
    },
    {
      "cell_type": "markdown",
      "metadata": {
        "id": "zWjcWZwUowjv"
      },
      "source": [
        "3) What data type is height? Make a guess first, then write the code to verify."
      ]
    },
    {
      "cell_type": "code",
      "execution_count": null,
      "metadata": {
        "scrolled": true,
        "id": "dGqMCIbSowjv"
      },
      "outputs": [],
      "source": [
        "<..>(<..>)"
      ]
    },
    {
      "cell_type": "markdown",
      "metadata": {
        "id": "l6VQc1Edowjv"
      },
      "source": [
        "4) My height has increased by 2cm. Convert height into an integer.<br/>\n",
        "5) Then update the variable <b>height</b> by adding 2 to it. Remember to cast it into an int first.<br/>\n",
        "6) Print out the value in the variable <b>height</b> to verify."
      ]
    },
    {
      "cell_type": "code",
      "execution_count": null,
      "metadata": {
        "id": "r-wng_y8owjv"
      },
      "outputs": [],
      "source": [
        "height = <..>(<..>) + <..>\n",
        "print(height)"
      ]
    },
    {
      "cell_type": "markdown",
      "metadata": {
        "id": "HzB_whHRowjv"
      },
      "source": [
        "# Question 8\n",
        "strings come with a few methods and properties.\n",
        "Here are two common ones: .lower() and .upper()"
      ]
    },
    {
      "cell_type": "code",
      "execution_count": null,
      "metadata": {
        "id": "lUFNdH0Jowjv"
      },
      "outputs": [],
      "source": [
        "name = \"Leonardo da Vinci\""
      ]
    },
    {
      "cell_type": "code",
      "execution_count": null,
      "metadata": {
        "id": "m5Zrb8K8owjv"
      },
      "outputs": [],
      "source": [
        "name.upper()"
      ]
    },
    {
      "cell_type": "code",
      "execution_count": null,
      "metadata": {
        "id": "HPjVzpfWowjv"
      },
      "outputs": [],
      "source": [
        "name = \"LEONARDO DA VINCI\""
      ]
    },
    {
      "cell_type": "code",
      "execution_count": null,
      "metadata": {
        "id": "uTwIITUyowjv"
      },
      "outputs": [],
      "source": [
        "name.lower()"
      ]
    },
    {
      "cell_type": "markdown",
      "metadata": {
        "id": "qXdsUfyTowjw"
      },
      "source": [
        "Note however that what you did here does not change the original string, <b>name</b>"
      ]
    },
    {
      "cell_type": "code",
      "execution_count": null,
      "metadata": {
        "id": "-1hQFfVDowjw"
      },
      "outputs": [],
      "source": [
        "print(name)"
      ]
    },
    {
      "cell_type": "markdown",
      "metadata": {
        "id": "1AzDG6yrowjw"
      },
      "source": [
        "Recall that strings are immutable. To affect the original string, you have to assign the value back."
      ]
    },
    {
      "cell_type": "code",
      "execution_count": null,
      "metadata": {
        "id": "S_meack4owjw"
      },
      "outputs": [],
      "source": [
        "name = name.lower()\n",
        "print(name)"
      ]
    },
    {
      "cell_type": "markdown",
      "metadata": {
        "id": "20odIGxDowjw"
      },
      "source": [
        "Investigate what the following methods do:<br/>\n",
        "- startswith()\n",
        "- endswith()\n",
        "- count()\n",
        "- isnumeric()\n",
        "- split()\n",
        "- pick one other of your choice\n",
        "\n",
        "Note: Don't forget your brackets!<br/>\n",
        "Note2: Some of the methods may require you to put a string inside the brackets.<br/>\n",
        "Note3: You can hit SHIFT+TAB when your cursor is inside the brackets for additional help on how to use the method."
      ]
    },
    {
      "cell_type": "code",
      "execution_count": null,
      "metadata": {
        "id": "GJKgjfqwowjw"
      },
      "outputs": [],
      "source": []
    },
    {
      "cell_type": "code",
      "execution_count": null,
      "metadata": {
        "id": "ADy2I35Eowjw"
      },
      "outputs": [],
      "source": []
    },
    {
      "cell_type": "code",
      "execution_count": null,
      "metadata": {
        "scrolled": true,
        "id": "eazElPcCowjw"
      },
      "outputs": [],
      "source": []
    },
    {
      "cell_type": "code",
      "execution_count": null,
      "metadata": {
        "id": "xNnMBI4iowjw"
      },
      "outputs": [],
      "source": []
    },
    {
      "cell_type": "code",
      "execution_count": null,
      "metadata": {
        "id": "KexmQbWTowjw"
      },
      "outputs": [],
      "source": []
    },
    {
      "cell_type": "markdown",
      "metadata": {
        "id": "nC526SjWowjw"
      },
      "source": [
        "# Question 9"
      ]
    },
    {
      "cell_type": "markdown",
      "metadata": {
        "id": "ZekXJCw_owjw"
      },
      "source": [
        "1) Ask the user for his name and store it in a variable <b>name</b>."
      ]
    },
    {
      "cell_type": "code",
      "execution_count": null,
      "metadata": {
        "id": "PRH9X9hGowjw"
      },
      "outputs": [],
      "source": []
    },
    {
      "cell_type": "markdown",
      "metadata": {
        "id": "nzdjKWxXowjw"
      },
      "source": [
        "2) Ask the user for his surname and store it in a variable <b>surname</b>."
      ]
    },
    {
      "cell_type": "code",
      "execution_count": null,
      "metadata": {
        "id": "fLQTpc4nowjw"
      },
      "outputs": [],
      "source": []
    },
    {
      "cell_type": "markdown",
      "metadata": {
        "id": "jUCGV_Vgowjw"
      },
      "source": [
        "3) Combine the name and surname into a variable <b>full_name</b> and capitalise it properly."
      ]
    },
    {
      "cell_type": "code",
      "execution_count": null,
      "metadata": {
        "id": "PMOrAUnvowjw"
      },
      "outputs": [],
      "source": []
    },
    {
      "cell_type": "markdown",
      "metadata": {
        "id": "QaPf4OLVowjw"
      },
      "source": [
        "4) Print out full_name to verify."
      ]
    },
    {
      "cell_type": "code",
      "execution_count": null,
      "metadata": {
        "id": "6J-P73H7owjw"
      },
      "outputs": [],
      "source": []
    },
    {
      "cell_type": "markdown",
      "metadata": {
        "id": "8B3C96cwowjw"
      },
      "source": [
        "5) Ask the user for the year he or she was born in and store it in a variable <b>born</b>"
      ]
    },
    {
      "cell_type": "code",
      "execution_count": null,
      "metadata": {
        "id": "oAxuhxuGowjw"
      },
      "outputs": [],
      "source": []
    },
    {
      "cell_type": "markdown",
      "metadata": {
        "id": "y33KY69Lowjw"
      },
      "source": [
        "6) Ask what year is it today and store it in a variable <b>year</b>."
      ]
    },
    {
      "cell_type": "code",
      "execution_count": null,
      "metadata": {
        "id": "8nRnMcs_owjw"
      },
      "outputs": [],
      "source": []
    },
    {
      "cell_type": "markdown",
      "metadata": {
        "id": "q6dz-jqtowjw"
      },
      "source": [
        "7) Calculate the user's age and store it in a variable <b>age</b>.<br/>\n",
        "8) Print it out to verify."
      ]
    },
    {
      "cell_type": "code",
      "execution_count": null,
      "metadata": {
        "id": "Dpc276B2owjx"
      },
      "outputs": [],
      "source": []
    },
    {
      "cell_type": "markdown",
      "metadata": {
        "id": "pwHj3t2Aowjx"
      },
      "source": [
        "9) Ask ... \"How many years into the future do you want to fast forward to: \"<br/>\n",
        "and print out something like the following if the user keyed in 20.<br/>\n",
        "\n",
        "John Smith is born in the year 1950 and he is 70 years old in the year 2020. He will be 90 years old in 20 years' time.<br/>\n",
        "\n",
        "<i>Note: The code should dynamically change depending on what the user keyed in. </i>"
      ]
    },
    {
      "cell_type": "code",
      "source": [],
      "metadata": {
        "id": "zYmj7B58o05F"
      },
      "execution_count": null,
      "outputs": []
    }
  ],
  "metadata": {
    "kernelspec": {
      "display_name": "Python 3 (ipykernel)",
      "language": "python",
      "name": "python3"
    },
    "language_info": {
      "codemirror_mode": {
        "name": "ipython",
        "version": 3
      },
      "file_extension": ".py",
      "mimetype": "text/x-python",
      "name": "python",
      "nbconvert_exporter": "python",
      "pygments_lexer": "ipython3",
      "version": "3.9.7"
    },
    "colab": {
      "provenance": [],
      "include_colab_link": true
    }
  },
  "nbformat": 4,
  "nbformat_minor": 0
}