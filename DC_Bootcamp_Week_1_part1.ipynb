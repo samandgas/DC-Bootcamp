{
  "cells": [
    {
      "cell_type": "markdown",
      "metadata": {
        "id": "MfmB1H49dDlv"
      },
      "source": [
        "# Mathematical Operations"
      ]
    },
    {
      "cell_type": "markdown",
      "metadata": {
        "id": "NBPxoJyOdDlw"
      },
      "source": [
        "## Run The Following Code\n",
        "Hit SHIFT + ENTER when your cusor is inside the cell of code.<br/>"
      ]
    },
    {
      "cell_type": "markdown",
      "metadata": {
        "id": "a4IduQZVdDlw"
      },
      "source": [
        "> This is how you do 1 + 1. The output value shows the result of your code"
      ]
    },
    {
      "cell_type": "code",
      "execution_count": null,
      "metadata": {
        "id": "UJYq3_uMdDlw",
        "outputId": "b4280e7a-4809-49c1-8d7c-d37c44083a95",
        "colab": {
          "base_uri": "https://localhost:8080/"
        }
      },
      "outputs": [
        {
          "output_type": "execute_result",
          "data": {
            "text/plain": [
              "2"
            ]
          },
          "metadata": {},
          "execution_count": 1
        }
      ],
      "source": [
        "1+1\n"
      ]
    },
    {
      "cell_type": "markdown",
      "metadata": {
        "id": "H-sKl5jvdDlw"
      },
      "source": [
        "> Try out a number subtracted by another number. The symbol for subtraction is -"
      ]
    },
    {
      "cell_type": "code",
      "execution_count": null,
      "metadata": {
        "id": "wjKGZMZfdDlx",
        "outputId": "b61a2463-57d3-486d-e0ad-2fd0e186cd05",
        "colab": {
          "base_uri": "https://localhost:8080/"
        }
      },
      "outputs": [
        {
          "output_type": "execute_result",
          "data": {
            "text/plain": [
              "2"
            ]
          },
          "metadata": {},
          "execution_count": 2
        }
      ],
      "source": [
        "10 - 8"
      ]
    },
    {
      "cell_type": "markdown",
      "metadata": {
        "id": "0DvIEV4JdDlx"
      },
      "source": [
        "> Try out a number multiplied by another number. The symbol for multiply is *"
      ]
    },
    {
      "cell_type": "code",
      "execution_count": null,
      "metadata": {
        "id": "hnBuCIdYdDlx",
        "outputId": "83c9af09-8597-44a8-f009-ab4f69ac7f28",
        "colab": {
          "base_uri": "https://localhost:8080/"
        }
      },
      "outputs": [
        {
          "output_type": "execute_result",
          "data": {
            "text/plain": [
              "10"
            ]
          },
          "metadata": {},
          "execution_count": 3
        }
      ],
      "source": [
        "5 * 2"
      ]
    },
    {
      "cell_type": "markdown",
      "metadata": {
        "id": "l-UoW-V_dDlx"
      },
      "source": [
        "> Try out a number divided by another number. The symbol for division is /"
      ]
    },
    {
      "cell_type": "code",
      "execution_count": null,
      "metadata": {
        "id": "k2EKv3uOdDlx"
      },
      "outputs": [],
      "source": [
        "10 / 3"
      ]
    },
    {
      "cell_type": "markdown",
      "metadata": {
        "id": "zZAiTPaBdDly"
      },
      "source": [
        "> Try out a number raised to the power of another number. The symbol for to the power of is **"
      ]
    },
    {
      "cell_type": "code",
      "execution_count": null,
      "metadata": {
        "id": "L-YKmdnjdDly",
        "outputId": "00addb2a-672c-4ba0-992c-fa4d1f0e0c34",
        "colab": {
          "base_uri": "https://localhost:8080/"
        }
      },
      "outputs": [
        {
          "output_type": "execute_result",
          "data": {
            "text/plain": [
              "8"
            ]
          },
          "metadata": {},
          "execution_count": 4
        }
      ],
      "source": [
        "2**3\n"
      ]
    },
    {
      "cell_type": "markdown",
      "metadata": {
        "id": "Nc7FCXW2dDly"
      },
      "source": [
        "> How do you find the square root of 4, by using \"the power of\""
      ]
    },
    {
      "cell_type": "code",
      "execution_count": null,
      "metadata": {
        "id": "hEdmz8urdDly",
        "outputId": "e7754562-42a2-44ed-93ac-46ac3beaf17c",
        "colab": {
          "base_uri": "https://localhost:8080/"
        }
      },
      "outputs": [
        {
          "output_type": "execute_result",
          "data": {
            "text/plain": [
              "2.0"
            ]
          },
          "metadata": {},
          "execution_count": 5
        }
      ],
      "source": [
        "4**0.5"
      ]
    },
    {
      "cell_type": "markdown",
      "metadata": {
        "id": "2jueMIAmdDly"
      },
      "source": [
        "> Use brackets ( ) to create a long and complicated mathematical expression. Verify that this is what you expect."
      ]
    },
    {
      "cell_type": "code",
      "execution_count": null,
      "metadata": {
        "id": "4CBJcatDdDly",
        "outputId": "c8fdfb6a-acc5-4bad-b259-0e32750f2eaa",
        "colab": {
          "base_uri": "https://localhost:8080/"
        }
      },
      "outputs": [
        {
          "output_type": "execute_result",
          "data": {
            "text/plain": [
              "16"
            ]
          },
          "metadata": {},
          "execution_count": 6
        }
      ],
      "source": [
        "(5+6-7)**2"
      ]
    },
    {
      "cell_type": "markdown",
      "metadata": {
        "id": "Z_2x4_eDdDly"
      },
      "source": [
        "# Variables And Data Types"
      ]
    },
    {
      "cell_type": "markdown",
      "metadata": {
        "id": "cpRXYmLDdDly"
      },
      "source": [
        "## Run The Following Code\n",
        "Hit SHIFT + ENTER when your cusor is inside the cell of code.<br/>"
      ]
    },
    {
      "cell_type": "markdown",
      "metadata": {
        "id": "LOgyAk0mdDly"
      },
      "source": [
        "> Declare a variable called <b>name</b> and give it a value <b>\"John\"</b>"
      ]
    },
    {
      "cell_type": "code",
      "execution_count": null,
      "metadata": {
        "id": "wEiFKkgWdDlz"
      },
      "outputs": [],
      "source": [
        "name = \"John\""
      ]
    },
    {
      "cell_type": "markdown",
      "metadata": {
        "id": "FHnUaMJrdDlz"
      },
      "source": [
        "> Print out what is the value of the variable <b>name</b>"
      ]
    },
    {
      "cell_type": "code",
      "execution_count": null,
      "metadata": {
        "id": "pFM2WMD3dDlz",
        "outputId": "cc3b6032-9b8d-40c5-8906-3db159952d16",
        "colab": {
          "base_uri": "https://localhost:8080/"
        }
      },
      "outputs": [
        {
          "output_type": "stream",
          "name": "stdout",
          "text": [
            "John\n"
          ]
        }
      ],
      "source": [
        "print(name)"
      ]
    },
    {
      "cell_type": "markdown",
      "metadata": {
        "id": "UygjxmkbdDlz"
      },
      "source": [
        "> Print out what is the data type of the variable <b>name</b>"
      ]
    },
    {
      "cell_type": "code",
      "execution_count": null,
      "metadata": {
        "id": "IUgJqsXwdDlz",
        "outputId": "20a609ce-e4ec-4276-9287-e11bc0eb57c4",
        "colab": {
          "base_uri": "https://localhost:8080/"
        }
      },
      "outputs": [
        {
          "output_type": "execute_result",
          "data": {
            "text/plain": [
              "str"
            ]
          },
          "metadata": {},
          "execution_count": 9
        }
      ],
      "source": [
        "type(name)"
      ]
    },
    {
      "cell_type": "markdown",
      "metadata": {
        "id": "RvyYJNPZdDlz"
      },
      "source": [
        "> Declare a variable called <b>height</b> and give it a value <b>180</b>"
      ]
    },
    {
      "cell_type": "code",
      "execution_count": null,
      "metadata": {
        "id": "u4GNOxKpdDlz"
      },
      "outputs": [],
      "source": [
        "height = 180"
      ]
    },
    {
      "cell_type": "markdown",
      "metadata": {
        "id": "sJqaAamxdDlz"
      },
      "source": [
        "> Print out what is the value of the variable <b>height</b>"
      ]
    },
    {
      "cell_type": "code",
      "execution_count": null,
      "metadata": {
        "scrolled": true,
        "id": "OQtqd5F4dDlz",
        "outputId": "89036512-4bc9-4a85-db10-3349f8e4cc1c",
        "colab": {
          "base_uri": "https://localhost:8080/"
        }
      },
      "outputs": [
        {
          "output_type": "stream",
          "name": "stdout",
          "text": [
            "180\n"
          ]
        }
      ],
      "source": [
        "print(height)"
      ]
    },
    {
      "cell_type": "markdown",
      "metadata": {
        "id": "DE0LlbVkdDlz"
      },
      "source": [
        "> Print out what is the data type of the variable <b>height</b>"
      ]
    },
    {
      "cell_type": "code",
      "execution_count": null,
      "metadata": {
        "id": "svSlC7M7dDlz",
        "outputId": "fb5cbeff-de1e-4249-e11d-5c46f4860d8a",
        "colab": {
          "base_uri": "https://localhost:8080/"
        }
      },
      "outputs": [
        {
          "output_type": "execute_result",
          "data": {
            "text/plain": [
              "int"
            ]
          },
          "metadata": {},
          "execution_count": 12
        }
      ],
      "source": [
        "type(height)"
      ]
    },
    {
      "cell_type": "markdown",
      "metadata": {
        "id": "iaBIML50dDlz"
      },
      "source": [
        "> Declare a variable called <b>weight</b> and give it a value <b>80.6</b>"
      ]
    },
    {
      "cell_type": "code",
      "execution_count": null,
      "metadata": {
        "id": "MYUB1HqAdDl0"
      },
      "outputs": [],
      "source": [
        "weight = 80.6"
      ]
    },
    {
      "cell_type": "markdown",
      "metadata": {
        "id": "MLLpkA4SdDl0"
      },
      "source": [
        "> Print out what is the value of the variable <b>weight</b>"
      ]
    },
    {
      "cell_type": "code",
      "execution_count": null,
      "metadata": {
        "scrolled": true,
        "id": "KtDhSBwtdDl0"
      },
      "outputs": [],
      "source": [
        "print(weight)"
      ]
    },
    {
      "cell_type": "markdown",
      "metadata": {
        "id": "s1e1C2NldDl0"
      },
      "source": [
        "> Print out what is the data type of the variable <b>weight</b>"
      ]
    },
    {
      "cell_type": "code",
      "execution_count": null,
      "metadata": {
        "id": "dIvcHprbdDl0"
      },
      "outputs": [],
      "source": [
        "type(weight)"
      ]
    },
    {
      "cell_type": "markdown",
      "metadata": {
        "id": "WO2klaszdDl0"
      },
      "source": [
        "> Note that you cannot start variable names with numbers. The following code will give an error."
      ]
    },
    {
      "cell_type": "code",
      "execution_count": null,
      "metadata": {
        "id": "syTSkmXBdDl0"
      },
      "outputs": [],
      "source": [
        "1_name = \"John\""
      ]
    },
    {
      "cell_type": "markdown",
      "metadata": {
        "id": "ZajpO4K6dDl0"
      },
      "source": [
        "> Note that you cannot start variable names with some reserved words. The following code will give an error."
      ]
    },
    {
      "cell_type": "code",
      "execution_count": null,
      "metadata": {
        "id": "LcpyTpRkdDl0"
      },
      "outputs": [],
      "source": [
        "def = \"John\""
      ]
    },
    {
      "cell_type": "markdown",
      "metadata": {
        "id": "B5thspDFdDl0"
      },
      "source": [
        "# !! Your Turn !!"
      ]
    },
    {
      "cell_type": "markdown",
      "metadata": {
        "id": "RxPgLjPmdDl0"
      },
      "source": [
        "## Replace the code marked as <..> COMPLETELY with your own.\n",
        "For example:\n",
        "length = <..> will be replaced by length = 10"
      ]
    },
    {
      "cell_type": "markdown",
      "metadata": {
        "id": "7I8w-4QwdDl0"
      },
      "source": [
        "# Question 1\n",
        "1) Declare a variable length<br/>\n",
        "2) Assign a value of 10 to it<br/>\n",
        "3) Print out the variable length<br/>"
      ]
    },
    {
      "cell_type": "code",
      "execution_count": null,
      "metadata": {
        "id": "9BAt1wlCdDl0",
        "outputId": "94578d6b-5d9f-40ca-c1e1-389ac498aa41",
        "colab": {
          "base_uri": "https://localhost:8080/"
        }
      },
      "outputs": [
        {
          "output_type": "stream",
          "name": "stdout",
          "text": [
            "10\n"
          ]
        }
      ],
      "source": [
        "length = 10\n",
        "print(length)"
      ]
    },
    {
      "cell_type": "markdown",
      "metadata": {
        "id": "i8cG-5MidDl1"
      },
      "source": [
        "# Question 2\n",
        "1) Declare a variable breadth<br/>\n",
        "2) Assign a value of 5 to it<br/>\n",
        "3) Print out the variable breadth<br/>"
      ]
    },
    {
      "cell_type": "code",
      "execution_count": null,
      "metadata": {
        "id": "lr_gunXVdDl1",
        "outputId": "609c10c5-a38a-4d75-8bfa-70a8b9794b11",
        "colab": {
          "base_uri": "https://localhost:8080/"
        }
      },
      "outputs": [
        {
          "output_type": "stream",
          "name": "stdout",
          "text": [
            "5\n"
          ]
        }
      ],
      "source": [
        "breadth = 5\n",
        "print(breadth)"
      ]
    },
    {
      "cell_type": "markdown",
      "metadata": {
        "id": "1xoXoEpKdDl1"
      },
      "source": [
        "# Question 3\n",
        "1) Declare a variable area<br/>\n",
        "2) Calculate the area using the formula area = length * breadth<br/>\n",
        "3) Print out the variable area<br/>"
      ]
    },
    {
      "cell_type": "code",
      "execution_count": null,
      "metadata": {
        "id": "sLqmXlyAdDl1",
        "outputId": "a2912034-8e79-45dc-f23a-80cf1c3d3d3d",
        "colab": {
          "base_uri": "https://localhost:8080/"
        }
      },
      "outputs": [
        {
          "output_type": "stream",
          "name": "stdout",
          "text": [
            "50\n"
          ]
        }
      ],
      "source": [
        "area = length * breadth\n",
        "print(area)"
      ]
    },
    {
      "cell_type": "markdown",
      "metadata": {
        "id": "4p__-K-adDl1"
      },
      "source": [
        "# Question 4\n",
        "1) Declare a variable number_of_eggs<br/>\n",
        "2) Store a value of 20<br/>\n",
        "3) Print out the variable number_of_eggs<br/>"
      ]
    },
    {
      "cell_type": "code",
      "execution_count": null,
      "metadata": {
        "id": "9ef9rjQtdDl1",
        "outputId": "5e167269-651c-4008-bebc-672f18286541",
        "colab": {
          "base_uri": "https://localhost:8080/"
        }
      },
      "outputs": [
        {
          "output_type": "stream",
          "name": "stdout",
          "text": [
            "20\n"
          ]
        }
      ],
      "source": [
        "number_of_eggs = 20\n",
        "print(number_of_eggs)"
      ]
    },
    {
      "cell_type": "markdown",
      "metadata": {
        "id": "ejoua4wbdDl1"
      },
      "source": [
        "# Question 5\n",
        "1) Declare a variable number_of_people<br/>\n",
        "2) Store a value of 3<br/>\n",
        "3) Print out the variable number_of_people<br/>"
      ]
    },
    {
      "cell_type": "code",
      "execution_count": null,
      "metadata": {
        "scrolled": true,
        "id": "VW65w8hSdDl1",
        "outputId": "fa60d37f-a783-4b75-e165-0f1253f367b7",
        "colab": {
          "base_uri": "https://localhost:8080/"
        }
      },
      "outputs": [
        {
          "output_type": "stream",
          "name": "stdout",
          "text": [
            "3\n"
          ]
        }
      ],
      "source": [
        "number_of_people = 3\n",
        "print(number_of_people)"
      ]
    },
    {
      "cell_type": "markdown",
      "metadata": {
        "id": "eyqiWPfadDl1"
      },
      "source": [
        "# Question 6\n",
        "1) Declare a variable eggs_per_person<br/>\n",
        "2) Store the result of divide the number_of_eggs by number_of_people into eggs_per_person<br/>\n",
        "2) Print out eggs_per_person<br/>"
      ]
    },
    {
      "cell_type": "code",
      "execution_count": null,
      "metadata": {
        "id": "aDO_KyFfdDl1",
        "outputId": "e7f092d4-8de7-4c08-e682-cc812dc8e75b",
        "colab": {
          "base_uri": "https://localhost:8080/"
        }
      },
      "outputs": [
        {
          "output_type": "stream",
          "name": "stdout",
          "text": [
            "6.666666666666667\n"
          ]
        }
      ],
      "source": [
        "eggs_per_person=number_of_eggs/number_of_people\n",
        "print(eggs_per_person)"
      ]
    },
    {
      "cell_type": "markdown",
      "metadata": {
        "id": "n28DteGadDl1"
      },
      "source": [
        "# Question 7\n",
        "1) I want the value in eggs_per_person to be a whole number<br/> \n",
        "2) % is a special operator in Python that allows you to find the remainder from a division operation.<br/>\n",
        "3) For example, 10 % 3 will return 1<br/>\n",
        "4) Declare a variable <b>remainder</b> to store the value when number_of_eggs is divided by number_of_people<br/>"
      ]
    },
    {
      "cell_type": "code",
      "execution_count": null,
      "metadata": {
        "id": "1qrG5FF4dDl1"
      },
      "outputs": [],
      "source": [
        "remainder = number_of_eggs % number_of_people"
      ]
    },
    {
      "cell_type": "markdown",
      "metadata": {
        "id": "lKu-fKNudDl1"
      },
      "source": [
        "# Question 8\n",
        "1) Since we have found out the remainder, remove that remainder from the number_of_eggs<br/>\n",
        "2) Then divide the outcome by number_of_people to find out how many eggs each person gets<br/>\n",
        "3) Do this as a single operation<br/>\n",
        "4) Print out --> Each person gets 6.0 eggs.<br/>"
      ]
    },
    {
      "cell_type": "code",
      "execution_count": null,
      "metadata": {
        "id": "5covjzHYdDl1",
        "outputId": "90b16c7b-2b33-4e5d-dc1e-a9a9fd82b8af",
        "colab": {
          "base_uri": "https://localhost:8080/"
        }
      },
      "outputs": [
        {
          "output_type": "stream",
          "name": "stdout",
          "text": [
            "Each person gets 6.0\n"
          ]
        }
      ],
      "source": [
        "eggs_per_person = (number_of_eggs-remainder)/number_of_people\n",
        "print(\"Each person gets\",eggs_per_person)"
      ]
    }
  ],
  "metadata": {
    "kernelspec": {
      "display_name": "Python 3 (ipykernel)",
      "language": "python",
      "name": "python3"
    },
    "language_info": {
      "codemirror_mode": {
        "name": "ipython",
        "version": 3
      },
      "file_extension": ".py",
      "mimetype": "text/x-python",
      "name": "python",
      "nbconvert_exporter": "python",
      "pygments_lexer": "ipython3",
      "version": "3.9.7"
    },
    "colab": {
      "provenance": []
    }
  },
  "nbformat": 4,
  "nbformat_minor": 0
}